{
 "cells": [
  {
   "cell_type": "markdown",
   "metadata": {},
   "source": [
    "# Import necessary libraries"
   ]
  },
  {
   "cell_type": "code",
   "execution_count": 65,
   "metadata": {
    "collapsed": false
   },
   "outputs": [],
   "source": [
    "import pandas as pd\n",
    "from pandas import DataFrame, Series\n",
    "pd.set_option('display.max_columns', None)\n",
    "import numpy as np\n",
    "import matplotlib.pyplot as plt\n",
    "import seaborn as sns\n",
    "%matplotlib inline\n",
    "from cStringIO import StringIO\n",
    "from bs4 import BeautifulSoup\n",
    "import urllib2\n",
    "import urllib\n",
    "import ast\n",
    "from selenium import webdriver  \n",
    "from selenium.common.exceptions import NoSuchElementException  \n",
    "from selenium.webdriver.common.keys import Keys  \n",
    "import time\n",
    "import re\n",
    "import json\n",
    "import multiprocessing as mp\n",
    "from HTMLParser import HTMLParser\n",
    "import datetime\n",
    "h = HTMLParser()"
   ]
  },
  {
   "cell_type": "markdown",
   "metadata": {},
   "source": [
    "# Define basic functions used throughout"
   ]
  },
  {
   "cell_type": "code",
   "execution_count": 2,
   "metadata": {
    "collapsed": true
   },
   "outputs": [],
   "source": [
    "def isFloat(string):\n",
    "    try:\n",
    "        float(string)\n",
    "        return True\n",
    "    except ValueError:\n",
    "        return False"
   ]
  },
  {
   "cell_type": "code",
   "execution_count": 3,
   "metadata": {
    "collapsed": true
   },
   "outputs": [],
   "source": [
    "def flatten(foo):\n",
    "    for x in foo:\n",
    "        if hasattr(x, '__iter__'):\n",
    "            for y in flatten(x):\n",
    "                yield y\n",
    "        else:\n",
    "            yield x"
   ]
  },
  {
   "cell_type": "markdown",
   "metadata": {},
   "source": [
    "# Create function to navigate through the built-in javascript calendar"
   ]
  },
  {
   "cell_type": "code",
   "execution_count": 4,
   "metadata": {
    "collapsed": true
   },
   "outputs": [],
   "source": [
    "def navigate_calendar(date, browser):\n",
    "        \n",
    "    yearidx = date.year%10 + 2\n",
    "    monthidx = date.month\n",
    "        \n",
    "    # Click on current month to open up menu of all months\n",
    "    browser.find_element_by_xpath('/html/body/div[5]/div[1]/table/thead/tr[1]/th[3]').click()\n",
    "    time.sleep(.5)\n",
    "    # Click current year\n",
    "    browser.find_element_by_xpath('/html/body/div[5]/div[2]/table/thead/tr/th[2]').click()\n",
    "    time.sleep(.5)\n",
    "    \n",
    "    if date < datetime.date(2010,1,1):\n",
    "        # Click for previous decade (2000-2009)\n",
    "        browser.find_element_by_xpath('/html/body/div[5]/div[3]/table/thead/tr/th[1]').click()\n",
    "        time.sleep(.5)\n",
    "    if date < datetime.date(2000,1,1):\n",
    "        # Click for previous decade (1990-1999)\n",
    "        browser.find_element_by_xpath('/html/body/div[5]/div[3]/table/thead/tr/th[1]').click()\n",
    "        time.sleep(.5)\n",
    "    # Click desired year within decade (span[2] gets 1990)\n",
    "    browser.find_element_by_xpath('/html/body/div[5]/div[3]/table/tbody/tr/td/span[%d]' %yearidx).click()\n",
    "    time.sleep(.5)\n",
    "    # Click month (span[3] gets March)\n",
    "    browser.find_element_by_xpath('/html/body/div[5]/div[2]/table/tbody/tr/td/span[%d]' %monthidx).click()\n",
    "    time.sleep(.5)"
   ]
  },
  {
   "cell_type": "markdown",
   "metadata": {},
   "source": [
    "# Pull auction IDs, names, dates, and department and save into dataframe\n",
    "\n",
    "This will be used to pull all individual auctions, with the ability to sort by department, date, and the specific auction it was sold in.\n",
    "\n",
    "Auction ID is crucial in the URL to identify which event the items were sold in.\n",
    "\n",
    "### NOTE: As Sotheby's uses JS for their auctions, we will have to use selenium to create a mock browser in order to pull this information."
   ]
  },
  {
   "cell_type": "code",
   "execution_count": 5,
   "metadata": {
    "collapsed": true
   },
   "outputs": [],
   "source": [
    "def pull_auction_ids_names_dates_viaDept(departmentNum, endDate, run):\n",
    "\n",
    "    browser = webdriver.Firefox() \n",
    "    browser.maximize_window()\n",
    "    browser.get('http://www.sothebys.com/en/auctions/results.html')  \n",
    "    time.sleep(3)\n",
    "    # Click on advanced search \n",
    "    browser.find_element_by_xpath('//*[@id=\"bodyWrap\"]/div[2]/section/form/div[1]/div/a').click() \n",
    "    time.sleep(2)\n",
    "    \n",
    "    # Fix start date - 1/22/2000 is the first date where they start uploading auction data\n",
    "    startDate = datetime.date(2000,1,22)\n",
    "    browser.find_element_by_xpath('//*[@id=\"bodyWrap\"]/div[2]/section/form/div[2]/div/label[1]/div/input').click()\n",
    "    time.sleep(2)\n",
    "    navigate_calendar(startDate, browser)\n",
    "    time.sleep(2)\n",
    "    # Select 1/22/2000 in calendar view\n",
    "    browser.find_element_by_xpath('/html/body/div[5]/div[1]/table/tbody/tr[4]/td[6]').click()\n",
    "    time.sleep(2)\n",
    "    \n",
    "    # Check to see if endDate needs to be updated and fix if so, create dataframe if first run\n",
    "    if endDate != datetime.date.today():\n",
    "        browser.find_element_by_xpath('//*[@id=\"bodyWrap\"]/div[2]/section/form/div[2]/div/label[2]/div/input').click()\n",
    "        time.sleep(2)\n",
    "        browser.find_element_by_xpath('//*[@id=\"bodyWrap\"]/div[2]/section/form/div[2]/div/label[2]/div/input').click()\n",
    "        time.sleep(2)\n",
    "        navigate_calendar(endDate, browser)\n",
    "        time.sleep(2)\n",
    "        browser.find_element_by_xpath('/html/body/div[5]/div[1]/table/tbody/tr[6]/td[7]').click()\n",
    "        time.sleep(2)\n",
    "    else:\n",
    "        browser.find_element_by_xpath('//*[@id=\"bodyWrap\"]/div[2]/section/form/div[2]/div/label[2]/div/input').click()\n",
    "        time.sleep(2)\n",
    "        browser.find_element_by_xpath('//*[@id=\"bodyWrap\"]/div[2]/section/form/div[2]/div/label[2]/div/input').click()\n",
    "        time.sleep(2)\n",
    "        browser.find_element_by_xpath('/html/body/div[5]/div[1]/table/tbody/tr[2]/td[7]').click()\n",
    "        time.sleep(2)\n",
    "        allAuctions = pd.DataFrame()\n",
    "    \n",
    "    # Apply search parameters\n",
    "    browser.find_element_by_xpath('//*[@id=\"apply-btn\"]').click()\n",
    "    time.sleep(5)\n",
    "    \n",
    "    # Open Department Dialog\n",
    "    browser.find_element_by_xpath('//*[@id=\"bodyWrap\"]/div[2]/section/form/div[1]/div/label[2]/div/button/span').click()\n",
    "    time.sleep(2)\n",
    "    \n",
    "    # Select Department\n",
    "    if departmentNum > 14:\n",
    "        numScrolls = (departmentNum-5)//2\n",
    "        scroll = 1\n",
    "        for i in range(0,numScrolls):\n",
    "            browser.find_element_by_xpath('//*[@id=\"bodyWrap\"]/div[2]/section/form/div[1]/div/label[2]/div/ul/li[%d]/a/label' % scroll).send_keys(Keys.ARROW_DOWN)\n",
    "            time.sleep(.25)\n",
    "            scroll += 2\n",
    "            \n",
    "    if departmentNum > 60:\n",
    "        browser.find_element_by_xpath('//*[@id=\"bodyWrap\"]/div[2]/section/form/div[1]/div/label[2]/div/ul/li[59]/a/label').send_keys(Keys.ARROW_DOWN)\n",
    "        time.sleep(.25)\n",
    "        browser.find_element_by_xpath('//*[@id=\"bodyWrap\"]/div[2]/section/form/div[1]/div/label[2]/div/ul/li[64]/a/label').send_keys(Keys.ARROW_DOWN)\n",
    "    \n",
    "    time.sleep(1)\n",
    "                                      \n",
    "    browser.find_element_by_xpath('//*[@id=\"bodyWrap\"]/div[2]/section/form/div[1]/div/label[2]/div/ul/li[%d]/a/label' %departmentNum).click()\n",
    "    time.sleep(3)\n",
    "    \n",
    "    # Press View All\n",
    "    browser.find_element_by_xpath('//*[@id=\"AuctionList\"]/div/div[1]/div[2]/a[3]/span').click()\n",
    "    time.sleep(5)\n",
    "    \n",
    "    # Extract source and close web browser\n",
    "    html_source = browser.page_source  \n",
    "\n",
    "    # Load in data into BeautifulSoup\n",
    "    soup = BeautifulSoup(html_source,'html.parser')  \n",
    "    auctionList = soup.findAll('article',{'class':'AuctionListItem'})  \n",
    "    \n",
    "    auctions_df = pd.DataFrame()\n",
    "    anchor1 = \"/en/auctions/\"\n",
    "    anchor2 = \"title\"\n",
    "    anchor3 = \"><img alt\"\n",
    "    anchor4 = \"datetime\"\n",
    "    anchor5 = \"</time>\"\n",
    "    \n",
    "    # Find all auction IDs, names, dates\n",
    "    \n",
    "    for auction in auctionList:\n",
    "        x = str(auction)\n",
    "        x1 = x[x.find(anchor4)+len(anchor4)+3:x.find(anchor5)+1]\n",
    "        auction_Id = x[x.find(anchor1)+len(anchor1)+5:x.find(anchor2)-7]\n",
    "        auction_Name = x[x.find(anchor2)+7:x.find(anchor3)-1]\n",
    "        auction_Date = x1[x1.find(\">\")+1:x1.find(\"<\")]\n",
    "        df2 = pd.DataFrame([[auction_Name, auction_Id, auction_Date]])\n",
    "        \n",
    "        # Exclude the auctions with no data (\"Page not found\")\n",
    "        \n",
    "        auctions_df = auctions_df.append(df2)\n",
    "\n",
    "        \n",
    "    # Format auctions dataframe\n",
    "    \n",
    "    auctions_df.columns = ['auctionName','auctionId','auctionDate']\n",
    "    \n",
    "    # Add to all other auctions of department\n",
    "    \n",
    "    allAuctions = allAuctions.append(auctions_df)\n",
    "    \n",
    "    # Return all auctions / rerun if haven't captured full category\n",
    "    \n",
    "    browser.quit()\n",
    "    \n",
    "    if auctions_df.shape[0]<500:\n",
    "        allAuctions = allAuctions.drop_duplicates()\n",
    "        allAuctions = allAuctions[allAuctions['auctionId'].map(lambda x: x[:5]) != 'logue']\n",
    "        allAuctions.index = range(0,len(allAuctions))\n",
    "        return allAuctions\n",
    "    else:\n",
    "        auctions.index = range(0,auctions.shape[0])\n",
    "        newEndDate = auctions['auctionDate'][500*run-1]\n",
    "        run += 1\n",
    "        auction_ids_names_dates_viaDept(departmentNum, newEndDate, run)"
   ]
  },
  {
   "cell_type": "markdown",
   "metadata": {},
   "source": [
    "# Now that we have all of the auctions ever hosted by Sotheby's, let's pull the specific items presented at these auctions and the relevant information on them."
   ]
  },
  {
   "cell_type": "markdown",
   "metadata": {},
   "source": [
    "### This function will allow us to open the page of a specific auction"
   ]
  },
  {
   "cell_type": "code",
   "execution_count": 95,
   "metadata": {
    "collapsed": false
   },
   "outputs": [],
   "source": [
    "def read_in_auction_source(auctionId):\n",
    "\n",
    "    for year in range(2017,2018):\n",
    "        testurl = \"http://www.sothebys.com/en/auctions/\" +  str(year) + \"/\" + auctionId + \".html\"\n",
    "        print(testurl)\n",
    "        print(type(testurl))\n",
    "        r = urllib2.urlopen(testurl)\n",
    "\n",
    "        soup = BeautifulSoup(r,'html.parser')\n",
    "        soup_s = str(soup)\n",
    "        \n",
    "        testCase = \"Page Not Found\"\n",
    "        \n",
    "        if soup_s[soup_s.find(\"<title>\")+7:soup_s.find(\"<title>\")+7+len(testCase)] != testCase:\n",
    "            break\n",
    "            \n",
    "    return soup"
   ]
  },
  {
   "cell_type": "code",
   "execution_count": 97,
   "metadata": {
    "collapsed": false
   },
   "outputs": [
    {
     "name": "stdout",
     "output_type": "stream",
     "text": [
      "http://www.sothebys.com/en/auctions/2017/http://www.sothebys.com/en/auctions/2017/master-paintings-19th-century-european-n09600.html.html\n",
      "<type 'str'>\n"
     ]
    },
    {
     "ename": "HTTPError",
     "evalue": "HTTP Error 400: Bad Request",
     "output_type": "error",
     "traceback": [
      "\u001b[0;31m---------------------------------------------------------------------------\u001b[0m",
      "\u001b[0;31mHTTPError\u001b[0m                                 Traceback (most recent call last)",
      "\u001b[0;32m<ipython-input-97-c02d4146d62b>\u001b[0m in \u001b[0;36m<module>\u001b[0;34m()\u001b[0m\n\u001b[1;32m      1\u001b[0m \u001b[0mtesturl\u001b[0m \u001b[0;34m=\u001b[0m \u001b[0;34m'http://www.sothebys.com/en/auctions/2017/master-paintings-19th-century-european-n09600.html'\u001b[0m\u001b[0;34m\u001b[0m\u001b[0m\n\u001b[0;32m----> 2\u001b[0;31m \u001b[0mread_in_auction_source\u001b[0m\u001b[0;34m(\u001b[0m\u001b[0mtesturl\u001b[0m\u001b[0;34m)\u001b[0m\u001b[0;34m\u001b[0m\u001b[0m\n\u001b[0m",
      "\u001b[0;32m<ipython-input-95-b62c221b3720>\u001b[0m in \u001b[0;36mread_in_auction_source\u001b[0;34m(auctionId)\u001b[0m\n\u001b[1;32m      5\u001b[0m         \u001b[0;32mprint\u001b[0m\u001b[0;34m(\u001b[0m\u001b[0mtesturl\u001b[0m\u001b[0;34m)\u001b[0m\u001b[0;34m\u001b[0m\u001b[0m\n\u001b[1;32m      6\u001b[0m         \u001b[0;32mprint\u001b[0m\u001b[0;34m(\u001b[0m\u001b[0mtype\u001b[0m\u001b[0;34m(\u001b[0m\u001b[0mtesturl\u001b[0m\u001b[0;34m)\u001b[0m\u001b[0;34m)\u001b[0m\u001b[0;34m\u001b[0m\u001b[0m\n\u001b[0;32m----> 7\u001b[0;31m         \u001b[0mr\u001b[0m \u001b[0;34m=\u001b[0m \u001b[0murllib2\u001b[0m\u001b[0;34m.\u001b[0m\u001b[0murlopen\u001b[0m\u001b[0;34m(\u001b[0m\u001b[0mtesturl\u001b[0m\u001b[0;34m)\u001b[0m\u001b[0;34m\u001b[0m\u001b[0m\n\u001b[0m\u001b[1;32m      8\u001b[0m \u001b[0;34m\u001b[0m\u001b[0m\n\u001b[1;32m      9\u001b[0m         \u001b[0msoup\u001b[0m \u001b[0;34m=\u001b[0m \u001b[0mBeautifulSoup\u001b[0m\u001b[0;34m(\u001b[0m\u001b[0mr\u001b[0m\u001b[0;34m,\u001b[0m\u001b[0;34m'html.parser'\u001b[0m\u001b[0;34m)\u001b[0m\u001b[0;34m\u001b[0m\u001b[0m\n",
      "\u001b[0;32m//anaconda/lib/python2.7/urllib2.pyc\u001b[0m in \u001b[0;36murlopen\u001b[0;34m(url, data, timeout, cafile, capath, cadefault, context)\u001b[0m\n\u001b[1;32m    152\u001b[0m     \u001b[0;32melse\u001b[0m\u001b[0;34m:\u001b[0m\u001b[0;34m\u001b[0m\u001b[0m\n\u001b[1;32m    153\u001b[0m         \u001b[0mopener\u001b[0m \u001b[0;34m=\u001b[0m \u001b[0m_opener\u001b[0m\u001b[0;34m\u001b[0m\u001b[0m\n\u001b[0;32m--> 154\u001b[0;31m     \u001b[0;32mreturn\u001b[0m \u001b[0mopener\u001b[0m\u001b[0;34m.\u001b[0m\u001b[0mopen\u001b[0m\u001b[0;34m(\u001b[0m\u001b[0murl\u001b[0m\u001b[0;34m,\u001b[0m \u001b[0mdata\u001b[0m\u001b[0;34m,\u001b[0m \u001b[0mtimeout\u001b[0m\u001b[0;34m)\u001b[0m\u001b[0;34m\u001b[0m\u001b[0m\n\u001b[0m\u001b[1;32m    155\u001b[0m \u001b[0;34m\u001b[0m\u001b[0m\n\u001b[1;32m    156\u001b[0m \u001b[0;32mdef\u001b[0m \u001b[0minstall_opener\u001b[0m\u001b[0;34m(\u001b[0m\u001b[0mopener\u001b[0m\u001b[0;34m)\u001b[0m\u001b[0;34m:\u001b[0m\u001b[0;34m\u001b[0m\u001b[0m\n",
      "\u001b[0;32m//anaconda/lib/python2.7/urllib2.pyc\u001b[0m in \u001b[0;36mopen\u001b[0;34m(self, fullurl, data, timeout)\u001b[0m\n\u001b[1;32m    433\u001b[0m         \u001b[0;32mfor\u001b[0m \u001b[0mprocessor\u001b[0m \u001b[0;32min\u001b[0m \u001b[0mself\u001b[0m\u001b[0;34m.\u001b[0m\u001b[0mprocess_response\u001b[0m\u001b[0;34m.\u001b[0m\u001b[0mget\u001b[0m\u001b[0;34m(\u001b[0m\u001b[0mprotocol\u001b[0m\u001b[0;34m,\u001b[0m \u001b[0;34m[\u001b[0m\u001b[0;34m]\u001b[0m\u001b[0;34m)\u001b[0m\u001b[0;34m:\u001b[0m\u001b[0;34m\u001b[0m\u001b[0m\n\u001b[1;32m    434\u001b[0m             \u001b[0mmeth\u001b[0m \u001b[0;34m=\u001b[0m \u001b[0mgetattr\u001b[0m\u001b[0;34m(\u001b[0m\u001b[0mprocessor\u001b[0m\u001b[0;34m,\u001b[0m \u001b[0mmeth_name\u001b[0m\u001b[0;34m)\u001b[0m\u001b[0;34m\u001b[0m\u001b[0m\n\u001b[0;32m--> 435\u001b[0;31m             \u001b[0mresponse\u001b[0m \u001b[0;34m=\u001b[0m \u001b[0mmeth\u001b[0m\u001b[0;34m(\u001b[0m\u001b[0mreq\u001b[0m\u001b[0;34m,\u001b[0m \u001b[0mresponse\u001b[0m\u001b[0;34m)\u001b[0m\u001b[0;34m\u001b[0m\u001b[0m\n\u001b[0m\u001b[1;32m    436\u001b[0m \u001b[0;34m\u001b[0m\u001b[0m\n\u001b[1;32m    437\u001b[0m         \u001b[0;32mreturn\u001b[0m \u001b[0mresponse\u001b[0m\u001b[0;34m\u001b[0m\u001b[0m\n",
      "\u001b[0;32m//anaconda/lib/python2.7/urllib2.pyc\u001b[0m in \u001b[0;36mhttp_response\u001b[0;34m(self, request, response)\u001b[0m\n\u001b[1;32m    546\u001b[0m         \u001b[0;32mif\u001b[0m \u001b[0;32mnot\u001b[0m \u001b[0;34m(\u001b[0m\u001b[0;36m200\u001b[0m \u001b[0;34m<=\u001b[0m \u001b[0mcode\u001b[0m \u001b[0;34m<\u001b[0m \u001b[0;36m300\u001b[0m\u001b[0;34m)\u001b[0m\u001b[0;34m:\u001b[0m\u001b[0;34m\u001b[0m\u001b[0m\n\u001b[1;32m    547\u001b[0m             response = self.parent.error(\n\u001b[0;32m--> 548\u001b[0;31m                 'http', request, response, code, msg, hdrs)\n\u001b[0m\u001b[1;32m    549\u001b[0m \u001b[0;34m\u001b[0m\u001b[0m\n\u001b[1;32m    550\u001b[0m         \u001b[0;32mreturn\u001b[0m \u001b[0mresponse\u001b[0m\u001b[0;34m\u001b[0m\u001b[0m\n",
      "\u001b[0;32m//anaconda/lib/python2.7/urllib2.pyc\u001b[0m in \u001b[0;36merror\u001b[0;34m(self, proto, *args)\u001b[0m\n\u001b[1;32m    471\u001b[0m         \u001b[0;32mif\u001b[0m \u001b[0mhttp_err\u001b[0m\u001b[0;34m:\u001b[0m\u001b[0;34m\u001b[0m\u001b[0m\n\u001b[1;32m    472\u001b[0m             \u001b[0margs\u001b[0m \u001b[0;34m=\u001b[0m \u001b[0;34m(\u001b[0m\u001b[0mdict\u001b[0m\u001b[0;34m,\u001b[0m \u001b[0;34m'default'\u001b[0m\u001b[0;34m,\u001b[0m \u001b[0;34m'http_error_default'\u001b[0m\u001b[0;34m)\u001b[0m \u001b[0;34m+\u001b[0m \u001b[0morig_args\u001b[0m\u001b[0;34m\u001b[0m\u001b[0m\n\u001b[0;32m--> 473\u001b[0;31m             \u001b[0;32mreturn\u001b[0m \u001b[0mself\u001b[0m\u001b[0;34m.\u001b[0m\u001b[0m_call_chain\u001b[0m\u001b[0;34m(\u001b[0m\u001b[0;34m*\u001b[0m\u001b[0margs\u001b[0m\u001b[0;34m)\u001b[0m\u001b[0;34m\u001b[0m\u001b[0m\n\u001b[0m\u001b[1;32m    474\u001b[0m \u001b[0;34m\u001b[0m\u001b[0m\n\u001b[1;32m    475\u001b[0m \u001b[0;31m# XXX probably also want an abstract factory that knows when it makes\u001b[0m\u001b[0;34m\u001b[0m\u001b[0;34m\u001b[0m\u001b[0m\n",
      "\u001b[0;32m//anaconda/lib/python2.7/urllib2.pyc\u001b[0m in \u001b[0;36m_call_chain\u001b[0;34m(self, chain, kind, meth_name, *args)\u001b[0m\n\u001b[1;32m    405\u001b[0m             \u001b[0mfunc\u001b[0m \u001b[0;34m=\u001b[0m \u001b[0mgetattr\u001b[0m\u001b[0;34m(\u001b[0m\u001b[0mhandler\u001b[0m\u001b[0;34m,\u001b[0m \u001b[0mmeth_name\u001b[0m\u001b[0;34m)\u001b[0m\u001b[0;34m\u001b[0m\u001b[0m\n\u001b[1;32m    406\u001b[0m \u001b[0;34m\u001b[0m\u001b[0m\n\u001b[0;32m--> 407\u001b[0;31m             \u001b[0mresult\u001b[0m \u001b[0;34m=\u001b[0m \u001b[0mfunc\u001b[0m\u001b[0;34m(\u001b[0m\u001b[0;34m*\u001b[0m\u001b[0margs\u001b[0m\u001b[0;34m)\u001b[0m\u001b[0;34m\u001b[0m\u001b[0m\n\u001b[0m\u001b[1;32m    408\u001b[0m             \u001b[0;32mif\u001b[0m \u001b[0mresult\u001b[0m \u001b[0;32mis\u001b[0m \u001b[0;32mnot\u001b[0m \u001b[0mNone\u001b[0m\u001b[0;34m:\u001b[0m\u001b[0;34m\u001b[0m\u001b[0m\n\u001b[1;32m    409\u001b[0m                 \u001b[0;32mreturn\u001b[0m \u001b[0mresult\u001b[0m\u001b[0;34m\u001b[0m\u001b[0m\n",
      "\u001b[0;32m//anaconda/lib/python2.7/urllib2.pyc\u001b[0m in \u001b[0;36mhttp_error_default\u001b[0;34m(self, req, fp, code, msg, hdrs)\u001b[0m\n\u001b[1;32m    554\u001b[0m \u001b[0;32mclass\u001b[0m \u001b[0mHTTPDefaultErrorHandler\u001b[0m\u001b[0;34m(\u001b[0m\u001b[0mBaseHandler\u001b[0m\u001b[0;34m)\u001b[0m\u001b[0;34m:\u001b[0m\u001b[0;34m\u001b[0m\u001b[0m\n\u001b[1;32m    555\u001b[0m     \u001b[0;32mdef\u001b[0m \u001b[0mhttp_error_default\u001b[0m\u001b[0;34m(\u001b[0m\u001b[0mself\u001b[0m\u001b[0;34m,\u001b[0m \u001b[0mreq\u001b[0m\u001b[0;34m,\u001b[0m \u001b[0mfp\u001b[0m\u001b[0;34m,\u001b[0m \u001b[0mcode\u001b[0m\u001b[0;34m,\u001b[0m \u001b[0mmsg\u001b[0m\u001b[0;34m,\u001b[0m \u001b[0mhdrs\u001b[0m\u001b[0;34m)\u001b[0m\u001b[0;34m:\u001b[0m\u001b[0;34m\u001b[0m\u001b[0m\n\u001b[0;32m--> 556\u001b[0;31m         \u001b[0;32mraise\u001b[0m \u001b[0mHTTPError\u001b[0m\u001b[0;34m(\u001b[0m\u001b[0mreq\u001b[0m\u001b[0;34m.\u001b[0m\u001b[0mget_full_url\u001b[0m\u001b[0;34m(\u001b[0m\u001b[0;34m)\u001b[0m\u001b[0;34m,\u001b[0m \u001b[0mcode\u001b[0m\u001b[0;34m,\u001b[0m \u001b[0mmsg\u001b[0m\u001b[0;34m,\u001b[0m \u001b[0mhdrs\u001b[0m\u001b[0;34m,\u001b[0m \u001b[0mfp\u001b[0m\u001b[0;34m)\u001b[0m\u001b[0;34m\u001b[0m\u001b[0m\n\u001b[0m\u001b[1;32m    557\u001b[0m \u001b[0;34m\u001b[0m\u001b[0m\n\u001b[1;32m    558\u001b[0m \u001b[0;32mclass\u001b[0m \u001b[0mHTTPRedirectHandler\u001b[0m\u001b[0;34m(\u001b[0m\u001b[0mBaseHandler\u001b[0m\u001b[0;34m)\u001b[0m\u001b[0;34m:\u001b[0m\u001b[0;34m\u001b[0m\u001b[0m\n",
      "\u001b[0;31mHTTPError\u001b[0m: HTTP Error 400: Bad Request"
     ]
    }
   ],
   "source": [
    "testurl = 'http://www.sothebys.com/en/auctions/2017/master-paintings-19th-century-european-n09600.html'\n",
    "read_in_auction_source(testurl)"
   ]
  },
  {
   "cell_type": "markdown",
   "metadata": {},
   "source": [
    "### This function will permit us to pull the information on a specific item, including currency it was sold in, price it was sold for, etc."
   ]
  },
  {
   "cell_type": "code",
   "execution_count": 7,
   "metadata": {
    "collapsed": true
   },
   "outputs": [],
   "source": [
    "def format_auction_data(soup_object, auctionName, auctionId, auctionDate):\n",
    "    \n",
    "    allLots = str(soup_object.find_all(\"script\", type=\"text/javascript\"))\n",
    "    \n",
    "    allLots = allLots[allLots.find('ECAT.lot['):allLots.find('cleanArray')]\n",
    "    \n",
    "    # There's an issue with the default input of the JSON object \n",
    "    # being in the improper formatting of booleans, fix.\n",
    "    \n",
    "    allLots = allLots.replace('false',\"'False'\")\n",
    "    allLots = allLots.replace('true',\"'True'\")\n",
    "    \n",
    "    allLots = allLots.split('};')[:-1]\n",
    "    \n",
    "    # We had to split by '};' rather than just ';' as some of \n",
    "    # the strings within the JSON object properties contained semicolons.\n",
    "    # Now we want to make sure that we retain the proper formatting by replacing the '}'\n",
    "    \n",
    "    allLots = [item + \"}\" for item in allLots]\n",
    "    \n",
    "    # Now we want to convert these objects to dictionaries so\n",
    "    # that they are easier to access.\n",
    "    \n",
    "    allLots_d = []\n",
    "    lotNum = 1\n",
    "\n",
    "    for idx,item in enumerate(allLots):\n",
    "        dig = len(str(lotNum))\n",
    "        newDict = ast.literal_eval(item[13+dig:])\n",
    "        allLots_d.append(newDict)\n",
    "        lotNum += 1\n",
    "        \n",
    "    # Now we have all dictionaries held in a list, however we only \n",
    "    # need a fraction of the keys.\n",
    "\n",
    "    newKeys = ['currency', 'highEst', 'lowEst', 'salePrice', \n",
    "               'title','guaranteeLine','genre','id','isSold',\n",
    "               'medium','type']\n",
    "\n",
    "    allLots_dn = allLots_d\n",
    "\n",
    "    for idx, item in enumerate(allLots_dn):\n",
    "        allLots_dn[idx] = {key: allLots_dn[idx][key] for key in newKeys}\n",
    "        \n",
    "    # Finally we should have our data in a format that is accessible. \n",
    "    # All dictionaries are held in a list of \"allLots_dn\".\n",
    "    \n",
    "    \n",
    "    #### Can merge two for loops here and drop dataframe columns you're\n",
    "    #### not using instead of dropping keys from dictionaries\n",
    "    \n",
    "    df = pd.DataFrame()\n",
    "\n",
    "    for item in allLots_dn:\n",
    "        df1 = pd.DataFrame(item.values()).transpose()\n",
    "        df1.columns = item.keys()\n",
    "        df = df.append(df1)\n",
    "\n",
    "    df.index = range(0, len(df))\n",
    "    df['auctionName'] = auctionName\n",
    "    df['auctionId'] = auctionId\n",
    "    df['auctionDate'] = auctionDate\n",
    "    \n",
    "    return df"
   ]
  },
  {
   "cell_type": "code",
   "execution_count": 69,
   "metadata": {
    "collapsed": false
   },
   "outputs": [
    {
     "ename": "NameError",
     "evalue": "global name 'Request' is not defined",
     "output_type": "error",
     "traceback": [
      "\u001b[0;31m---------------------------------------------------------------------------\u001b[0m",
      "\u001b[0;31mNameError\u001b[0m                                 Traceback (most recent call last)",
      "\u001b[0;32m<ipython-input-69-d28a7daffd8a>\u001b[0m in \u001b[0;36m<module>\u001b[0;34m()\u001b[0m\n\u001b[0;32m----> 1\u001b[0;31m \u001b[0mread_in_auction_source\u001b[0m\u001b[0;34m(\u001b[0m\u001b[0;34m'master-paintings-19th-century-european-n09600'\u001b[0m\u001b[0;34m)\u001b[0m\u001b[0;34m\u001b[0m\u001b[0m\n\u001b[0m",
      "\u001b[0;32m<ipython-input-68-aaba35f83fae>\u001b[0m in \u001b[0;36mread_in_auction_source\u001b[0;34m(auctionId)\u001b[0m\n\u001b[1;32m      5\u001b[0m         \u001b[0;31m#r = urllib2.urlopen(testurl)\u001b[0m\u001b[0;34m\u001b[0m\u001b[0;34m\u001b[0m\u001b[0m\n\u001b[1;32m      6\u001b[0m \u001b[0;34m\u001b[0m\u001b[0m\n\u001b[0;32m----> 7\u001b[0;31m         \u001b[0mq\u001b[0m \u001b[0;34m=\u001b[0m \u001b[0mRequest\u001b[0m\u001b[0;34m(\u001b[0m\u001b[0mtesturl\u001b[0m\u001b[0;34m)\u001b[0m\u001b[0;34m\u001b[0m\u001b[0m\n\u001b[0m\u001b[1;32m      8\u001b[0m         \u001b[0mq\u001b[0m\u001b[0;34m.\u001b[0m\u001b[0madd_header\u001b[0m\u001b[0;34m(\u001b[0m\u001b[0;34m'User-Agent'\u001b[0m\u001b[0;34m,\u001b[0m \u001b[0;34m'Mozilla/5.0'\u001b[0m\u001b[0;34m)\u001b[0m\u001b[0;34m\u001b[0m\u001b[0m\n\u001b[1;32m      9\u001b[0m         \u001b[0mr\u001b[0m \u001b[0;34m=\u001b[0m \u001b[0murlopen\u001b[0m\u001b[0;34m(\u001b[0m\u001b[0mq\u001b[0m\u001b[0;34m)\u001b[0m\u001b[0;34m.\u001b[0m\u001b[0mread\u001b[0m\u001b[0;34m(\u001b[0m\u001b[0;34m)\u001b[0m\u001b[0;34m\u001b[0m\u001b[0m\n",
      "\u001b[0;31mNameError\u001b[0m: global name 'Request' is not defined"
     ]
    }
   ],
   "source": []
  },
  {
   "cell_type": "code",
   "execution_count": 8,
   "metadata": {
    "collapsed": true
   },
   "outputs": [],
   "source": [
    "def convert_auction_data(auctionName, auctionId, auctionDate):\n",
    "    soupObj = read_in_auction_source(auctionId)\n",
    "    auction_f = format_auction_data(soupObj,auctionName,auctionId, auctionDate)\n",
    "    return auction_f"
   ]
  },
  {
   "cell_type": "code",
   "execution_count": 28,
   "metadata": {
    "collapsed": false
   },
   "outputs": [],
   "source": [
    "def pull_items_from_auction(row, df=masterdf_AuctionEvents):\n",
    "\n",
    "    print(\"Pulling auction \" + str(row+1) + \" of \" + str(df.shape[0]))\n",
    "    auctionId = df['auctionId'][row]\n",
    "    auctionName = df['auctionName'][row]\n",
    "    auctionDate = df['auctionDate'][row]\n",
    "    print(auctionName, auctionId, auctionDate)\n",
    "    auctionData = convert_auction_data(auctionName, auctionId, auctionDate)\n",
    "    return auctionData"
   ]
  },
  {
   "cell_type": "code",
   "execution_count": 21,
   "metadata": {
    "collapsed": true
   },
   "outputs": [],
   "source": [
    "endDate = datetime.date(2017,4,19)\n",
    "masterdf_AuctionEvents = pull_auction_ids_names_dates_viaDept(51, endDate, 1)"
   ]
  },
  {
   "cell_type": "code",
   "execution_count": 22,
   "metadata": {
    "collapsed": true
   },
   "outputs": [],
   "source": [
    "masterdf_AuctionItems = pd.DataFrame()\n",
    "numAuctions = masterdf_AuctionEvents.shape[0]\n",
    "auctionData = []\n",
    "    "
   ]
  },
  {
   "cell_type": "code",
   "execution_count": 29,
   "metadata": {
    "collapsed": false
   },
   "outputs": [
    {
     "name": "stdout",
     "output_type": "stream",
     "text": [
      "Pulling auction 2 of 126\n",
      "('Master Paintings &amp; 19th Century European Art', 'master-paintings-19th-century-european-n09600', '27 JAN 2017')\n"
     ]
    },
    {
     "ename": "HTTPError",
     "evalue": "HTTP Error 400: Bad Request",
     "output_type": "error",
     "traceback": [
      "\u001b[0;31m---------------------------------------------------------------------------\u001b[0m",
      "\u001b[0;31mHTTPError\u001b[0m                                 Traceback (most recent call last)",
      "\u001b[0;32m<ipython-input-29-f3220b8b4387>\u001b[0m in \u001b[0;36m<module>\u001b[0;34m()\u001b[0m\n\u001b[0;32m----> 1\u001b[0;31m \u001b[0mpull_items_from_auction\u001b[0m\u001b[0;34m(\u001b[0m\u001b[0;36m1\u001b[0m\u001b[0;34m)\u001b[0m\u001b[0;34m\u001b[0m\u001b[0m\n\u001b[0m",
      "\u001b[0;32m<ipython-input-28-210345293441>\u001b[0m in \u001b[0;36mpull_items_from_auction\u001b[0;34m(row, df)\u001b[0m\n\u001b[1;32m      6\u001b[0m     \u001b[0mauctionDate\u001b[0m \u001b[0;34m=\u001b[0m \u001b[0mdf\u001b[0m\u001b[0;34m[\u001b[0m\u001b[0;34m'auctionDate'\u001b[0m\u001b[0;34m]\u001b[0m\u001b[0;34m[\u001b[0m\u001b[0mrow\u001b[0m\u001b[0;34m]\u001b[0m\u001b[0;34m\u001b[0m\u001b[0m\n\u001b[1;32m      7\u001b[0m     \u001b[0;32mprint\u001b[0m\u001b[0;34m(\u001b[0m\u001b[0mauctionName\u001b[0m\u001b[0;34m,\u001b[0m \u001b[0mauctionId\u001b[0m\u001b[0;34m,\u001b[0m \u001b[0mauctionDate\u001b[0m\u001b[0;34m)\u001b[0m\u001b[0;34m\u001b[0m\u001b[0m\n\u001b[0;32m----> 8\u001b[0;31m     \u001b[0mauctionData\u001b[0m \u001b[0;34m=\u001b[0m \u001b[0mconvert_auction_data\u001b[0m\u001b[0;34m(\u001b[0m\u001b[0mauctionName\u001b[0m\u001b[0;34m,\u001b[0m \u001b[0mauctionId\u001b[0m\u001b[0;34m,\u001b[0m \u001b[0mauctionDate\u001b[0m\u001b[0;34m)\u001b[0m\u001b[0;34m\u001b[0m\u001b[0m\n\u001b[0m\u001b[1;32m      9\u001b[0m     \u001b[0;32mreturn\u001b[0m \u001b[0mauctionData\u001b[0m\u001b[0;34m\u001b[0m\u001b[0m\n",
      "\u001b[0;32m<ipython-input-8-2e2c9f8f56ac>\u001b[0m in \u001b[0;36mconvert_auction_data\u001b[0;34m(auctionName, auctionId, auctionDate)\u001b[0m\n\u001b[1;32m      1\u001b[0m \u001b[0;32mdef\u001b[0m \u001b[0mconvert_auction_data\u001b[0m\u001b[0;34m(\u001b[0m\u001b[0mauctionName\u001b[0m\u001b[0;34m,\u001b[0m \u001b[0mauctionId\u001b[0m\u001b[0;34m,\u001b[0m \u001b[0mauctionDate\u001b[0m\u001b[0;34m)\u001b[0m\u001b[0;34m:\u001b[0m\u001b[0;34m\u001b[0m\u001b[0m\n\u001b[0;32m----> 2\u001b[0;31m     \u001b[0msoupObj\u001b[0m \u001b[0;34m=\u001b[0m \u001b[0mread_in_auction_source\u001b[0m\u001b[0;34m(\u001b[0m\u001b[0mauctionId\u001b[0m\u001b[0;34m)\u001b[0m\u001b[0;34m\u001b[0m\u001b[0m\n\u001b[0m\u001b[1;32m      3\u001b[0m     \u001b[0mauction_f\u001b[0m \u001b[0;34m=\u001b[0m \u001b[0mformat_auction_data\u001b[0m\u001b[0;34m(\u001b[0m\u001b[0msoupObj\u001b[0m\u001b[0;34m,\u001b[0m\u001b[0mauctionName\u001b[0m\u001b[0;34m,\u001b[0m\u001b[0mauctionId\u001b[0m\u001b[0;34m,\u001b[0m \u001b[0mauctionDate\u001b[0m\u001b[0;34m)\u001b[0m\u001b[0;34m\u001b[0m\u001b[0m\n\u001b[1;32m      4\u001b[0m     \u001b[0;32mreturn\u001b[0m \u001b[0mauction_f\u001b[0m\u001b[0;34m\u001b[0m\u001b[0m\n",
      "\u001b[0;32m<ipython-input-6-3fb76728bc8d>\u001b[0m in \u001b[0;36mread_in_auction_source\u001b[0;34m(auctionId)\u001b[0m\n\u001b[1;32m      3\u001b[0m     \u001b[0;32mfor\u001b[0m \u001b[0myear\u001b[0m \u001b[0;32min\u001b[0m \u001b[0mrange\u001b[0m\u001b[0;34m(\u001b[0m\u001b[0;36m2014\u001b[0m\u001b[0;34m,\u001b[0m\u001b[0;36m2017\u001b[0m\u001b[0;34m)\u001b[0m\u001b[0;34m:\u001b[0m\u001b[0;34m\u001b[0m\u001b[0m\n\u001b[1;32m      4\u001b[0m         \u001b[0mtesturl\u001b[0m \u001b[0;34m=\u001b[0m \u001b[0;34m\"http://www.sothebys.com/en/auctions/\"\u001b[0m \u001b[0;34m+\u001b[0m \u001b[0mstr\u001b[0m\u001b[0;34m(\u001b[0m\u001b[0myear\u001b[0m\u001b[0;34m)\u001b[0m \u001b[0;34m+\u001b[0m \u001b[0;34m\"/\"\u001b[0m \u001b[0;34m+\u001b[0m \u001b[0mauctionId\u001b[0m \u001b[0;34m+\u001b[0m \u001b[0;34m\".html\"\u001b[0m\u001b[0;34m\u001b[0m\u001b[0m\n\u001b[0;32m----> 5\u001b[0;31m         \u001b[0mr\u001b[0m \u001b[0;34m=\u001b[0m \u001b[0murllib2\u001b[0m\u001b[0;34m.\u001b[0m\u001b[0murlopen\u001b[0m\u001b[0;34m(\u001b[0m\u001b[0mtesturl\u001b[0m\u001b[0;34m)\u001b[0m\u001b[0;34m\u001b[0m\u001b[0m\n\u001b[0m\u001b[1;32m      6\u001b[0m \u001b[0;34m\u001b[0m\u001b[0m\n\u001b[1;32m      7\u001b[0m         \u001b[0msoup\u001b[0m \u001b[0;34m=\u001b[0m \u001b[0mBeautifulSoup\u001b[0m\u001b[0;34m(\u001b[0m\u001b[0mr\u001b[0m\u001b[0;34m,\u001b[0m\u001b[0;34m'html.parser'\u001b[0m\u001b[0;34m)\u001b[0m\u001b[0;34m\u001b[0m\u001b[0m\n",
      "\u001b[0;32m//anaconda/lib/python2.7/urllib2.pyc\u001b[0m in \u001b[0;36murlopen\u001b[0;34m(url, data, timeout, cafile, capath, cadefault, context)\u001b[0m\n\u001b[1;32m    152\u001b[0m     \u001b[0;32melse\u001b[0m\u001b[0;34m:\u001b[0m\u001b[0;34m\u001b[0m\u001b[0m\n\u001b[1;32m    153\u001b[0m         \u001b[0mopener\u001b[0m \u001b[0;34m=\u001b[0m \u001b[0m_opener\u001b[0m\u001b[0;34m\u001b[0m\u001b[0m\n\u001b[0;32m--> 154\u001b[0;31m     \u001b[0;32mreturn\u001b[0m \u001b[0mopener\u001b[0m\u001b[0;34m.\u001b[0m\u001b[0mopen\u001b[0m\u001b[0;34m(\u001b[0m\u001b[0murl\u001b[0m\u001b[0;34m,\u001b[0m \u001b[0mdata\u001b[0m\u001b[0;34m,\u001b[0m \u001b[0mtimeout\u001b[0m\u001b[0;34m)\u001b[0m\u001b[0;34m\u001b[0m\u001b[0m\n\u001b[0m\u001b[1;32m    155\u001b[0m \u001b[0;34m\u001b[0m\u001b[0m\n\u001b[1;32m    156\u001b[0m \u001b[0;32mdef\u001b[0m \u001b[0minstall_opener\u001b[0m\u001b[0;34m(\u001b[0m\u001b[0mopener\u001b[0m\u001b[0;34m)\u001b[0m\u001b[0;34m:\u001b[0m\u001b[0;34m\u001b[0m\u001b[0m\n",
      "\u001b[0;32m//anaconda/lib/python2.7/urllib2.pyc\u001b[0m in \u001b[0;36mopen\u001b[0;34m(self, fullurl, data, timeout)\u001b[0m\n\u001b[1;32m    433\u001b[0m         \u001b[0;32mfor\u001b[0m \u001b[0mprocessor\u001b[0m \u001b[0;32min\u001b[0m \u001b[0mself\u001b[0m\u001b[0;34m.\u001b[0m\u001b[0mprocess_response\u001b[0m\u001b[0;34m.\u001b[0m\u001b[0mget\u001b[0m\u001b[0;34m(\u001b[0m\u001b[0mprotocol\u001b[0m\u001b[0;34m,\u001b[0m \u001b[0;34m[\u001b[0m\u001b[0;34m]\u001b[0m\u001b[0;34m)\u001b[0m\u001b[0;34m:\u001b[0m\u001b[0;34m\u001b[0m\u001b[0m\n\u001b[1;32m    434\u001b[0m             \u001b[0mmeth\u001b[0m \u001b[0;34m=\u001b[0m \u001b[0mgetattr\u001b[0m\u001b[0;34m(\u001b[0m\u001b[0mprocessor\u001b[0m\u001b[0;34m,\u001b[0m \u001b[0mmeth_name\u001b[0m\u001b[0;34m)\u001b[0m\u001b[0;34m\u001b[0m\u001b[0m\n\u001b[0;32m--> 435\u001b[0;31m             \u001b[0mresponse\u001b[0m \u001b[0;34m=\u001b[0m \u001b[0mmeth\u001b[0m\u001b[0;34m(\u001b[0m\u001b[0mreq\u001b[0m\u001b[0;34m,\u001b[0m \u001b[0mresponse\u001b[0m\u001b[0;34m)\u001b[0m\u001b[0;34m\u001b[0m\u001b[0m\n\u001b[0m\u001b[1;32m    436\u001b[0m \u001b[0;34m\u001b[0m\u001b[0m\n\u001b[1;32m    437\u001b[0m         \u001b[0;32mreturn\u001b[0m \u001b[0mresponse\u001b[0m\u001b[0;34m\u001b[0m\u001b[0m\n",
      "\u001b[0;32m//anaconda/lib/python2.7/urllib2.pyc\u001b[0m in \u001b[0;36mhttp_response\u001b[0;34m(self, request, response)\u001b[0m\n\u001b[1;32m    546\u001b[0m         \u001b[0;32mif\u001b[0m \u001b[0;32mnot\u001b[0m \u001b[0;34m(\u001b[0m\u001b[0;36m200\u001b[0m \u001b[0;34m<=\u001b[0m \u001b[0mcode\u001b[0m \u001b[0;34m<\u001b[0m \u001b[0;36m300\u001b[0m\u001b[0;34m)\u001b[0m\u001b[0;34m:\u001b[0m\u001b[0;34m\u001b[0m\u001b[0m\n\u001b[1;32m    547\u001b[0m             response = self.parent.error(\n\u001b[0;32m--> 548\u001b[0;31m                 'http', request, response, code, msg, hdrs)\n\u001b[0m\u001b[1;32m    549\u001b[0m \u001b[0;34m\u001b[0m\u001b[0m\n\u001b[1;32m    550\u001b[0m         \u001b[0;32mreturn\u001b[0m \u001b[0mresponse\u001b[0m\u001b[0;34m\u001b[0m\u001b[0m\n",
      "\u001b[0;32m//anaconda/lib/python2.7/urllib2.pyc\u001b[0m in \u001b[0;36merror\u001b[0;34m(self, proto, *args)\u001b[0m\n\u001b[1;32m    471\u001b[0m         \u001b[0;32mif\u001b[0m \u001b[0mhttp_err\u001b[0m\u001b[0;34m:\u001b[0m\u001b[0;34m\u001b[0m\u001b[0m\n\u001b[1;32m    472\u001b[0m             \u001b[0margs\u001b[0m \u001b[0;34m=\u001b[0m \u001b[0;34m(\u001b[0m\u001b[0mdict\u001b[0m\u001b[0;34m,\u001b[0m \u001b[0;34m'default'\u001b[0m\u001b[0;34m,\u001b[0m \u001b[0;34m'http_error_default'\u001b[0m\u001b[0;34m)\u001b[0m \u001b[0;34m+\u001b[0m \u001b[0morig_args\u001b[0m\u001b[0;34m\u001b[0m\u001b[0m\n\u001b[0;32m--> 473\u001b[0;31m             \u001b[0;32mreturn\u001b[0m \u001b[0mself\u001b[0m\u001b[0;34m.\u001b[0m\u001b[0m_call_chain\u001b[0m\u001b[0;34m(\u001b[0m\u001b[0;34m*\u001b[0m\u001b[0margs\u001b[0m\u001b[0;34m)\u001b[0m\u001b[0;34m\u001b[0m\u001b[0m\n\u001b[0m\u001b[1;32m    474\u001b[0m \u001b[0;34m\u001b[0m\u001b[0m\n\u001b[1;32m    475\u001b[0m \u001b[0;31m# XXX probably also want an abstract factory that knows when it makes\u001b[0m\u001b[0;34m\u001b[0m\u001b[0;34m\u001b[0m\u001b[0m\n",
      "\u001b[0;32m//anaconda/lib/python2.7/urllib2.pyc\u001b[0m in \u001b[0;36m_call_chain\u001b[0;34m(self, chain, kind, meth_name, *args)\u001b[0m\n\u001b[1;32m    405\u001b[0m             \u001b[0mfunc\u001b[0m \u001b[0;34m=\u001b[0m \u001b[0mgetattr\u001b[0m\u001b[0;34m(\u001b[0m\u001b[0mhandler\u001b[0m\u001b[0;34m,\u001b[0m \u001b[0mmeth_name\u001b[0m\u001b[0;34m)\u001b[0m\u001b[0;34m\u001b[0m\u001b[0m\n\u001b[1;32m    406\u001b[0m \u001b[0;34m\u001b[0m\u001b[0m\n\u001b[0;32m--> 407\u001b[0;31m             \u001b[0mresult\u001b[0m \u001b[0;34m=\u001b[0m \u001b[0mfunc\u001b[0m\u001b[0;34m(\u001b[0m\u001b[0;34m*\u001b[0m\u001b[0margs\u001b[0m\u001b[0;34m)\u001b[0m\u001b[0;34m\u001b[0m\u001b[0m\n\u001b[0m\u001b[1;32m    408\u001b[0m             \u001b[0;32mif\u001b[0m \u001b[0mresult\u001b[0m \u001b[0;32mis\u001b[0m \u001b[0;32mnot\u001b[0m \u001b[0mNone\u001b[0m\u001b[0;34m:\u001b[0m\u001b[0;34m\u001b[0m\u001b[0m\n\u001b[1;32m    409\u001b[0m                 \u001b[0;32mreturn\u001b[0m \u001b[0mresult\u001b[0m\u001b[0;34m\u001b[0m\u001b[0m\n",
      "\u001b[0;32m//anaconda/lib/python2.7/urllib2.pyc\u001b[0m in \u001b[0;36mhttp_error_default\u001b[0;34m(self, req, fp, code, msg, hdrs)\u001b[0m\n\u001b[1;32m    554\u001b[0m \u001b[0;32mclass\u001b[0m \u001b[0mHTTPDefaultErrorHandler\u001b[0m\u001b[0;34m(\u001b[0m\u001b[0mBaseHandler\u001b[0m\u001b[0;34m)\u001b[0m\u001b[0;34m:\u001b[0m\u001b[0;34m\u001b[0m\u001b[0m\n\u001b[1;32m    555\u001b[0m     \u001b[0;32mdef\u001b[0m \u001b[0mhttp_error_default\u001b[0m\u001b[0;34m(\u001b[0m\u001b[0mself\u001b[0m\u001b[0;34m,\u001b[0m \u001b[0mreq\u001b[0m\u001b[0;34m,\u001b[0m \u001b[0mfp\u001b[0m\u001b[0;34m,\u001b[0m \u001b[0mcode\u001b[0m\u001b[0;34m,\u001b[0m \u001b[0mmsg\u001b[0m\u001b[0;34m,\u001b[0m \u001b[0mhdrs\u001b[0m\u001b[0;34m)\u001b[0m\u001b[0;34m:\u001b[0m\u001b[0;34m\u001b[0m\u001b[0m\n\u001b[0;32m--> 556\u001b[0;31m         \u001b[0;32mraise\u001b[0m \u001b[0mHTTPError\u001b[0m\u001b[0;34m(\u001b[0m\u001b[0mreq\u001b[0m\u001b[0;34m.\u001b[0m\u001b[0mget_full_url\u001b[0m\u001b[0;34m(\u001b[0m\u001b[0;34m)\u001b[0m\u001b[0;34m,\u001b[0m \u001b[0mcode\u001b[0m\u001b[0;34m,\u001b[0m \u001b[0mmsg\u001b[0m\u001b[0;34m,\u001b[0m \u001b[0mhdrs\u001b[0m\u001b[0;34m,\u001b[0m \u001b[0mfp\u001b[0m\u001b[0;34m)\u001b[0m\u001b[0;34m\u001b[0m\u001b[0m\n\u001b[0m\u001b[1;32m    557\u001b[0m \u001b[0;34m\u001b[0m\u001b[0m\n\u001b[1;32m    558\u001b[0m \u001b[0;32mclass\u001b[0m \u001b[0mHTTPRedirectHandler\u001b[0m\u001b[0;34m(\u001b[0m\u001b[0mBaseHandler\u001b[0m\u001b[0;34m)\u001b[0m\u001b[0;34m:\u001b[0m\u001b[0;34m\u001b[0m\u001b[0m\n",
      "\u001b[0;31mHTTPError\u001b[0m: HTTP Error 400: Bad Request"
     ]
    }
   ],
   "source": [
    "read_in_auction_source()"
   ]
  },
  {
   "cell_type": "code",
   "execution_count": 26,
   "metadata": {
    "collapsed": false
   },
   "outputs": [
    {
     "name": "stdout",
     "output_type": "stream",
     "text": [
      "Pulling auction 9 of 126\n",
      "Pulling auction 1 of 126\n",
      "Pulling auction 17 of 126\n",
      "Pulling auction 25 of 126\n",
      "Pulling auction 33 of 126\n",
      "Pulling auction 41 of 126\n",
      "Pulling auction 49 of 126\n",
      "Pulling auction 57 of 126\n",
      "Pulling auction 73 of 126\n",
      "Pulling auction 65 of 126\n"
     ]
    },
    {
     "ename": "MaybeEncodingError",
     "evalue": "Error sending result: 'HTTPError()'. Reason: 'TypeError(\"can't pickle cStringIO.StringO objects\",)'",
     "output_type": "error",
     "traceback": [
      "\u001b[0;31m---------------------------------------------------------------------------\u001b[0m",
      "\u001b[0;31mMaybeEncodingError\u001b[0m                        Traceback (most recent call last)",
      "\u001b[0;32m<ipython-input-26-6a44f25e7098>\u001b[0m in \u001b[0;36m<module>\u001b[0;34m()\u001b[0m\n\u001b[1;32m      2\u001b[0m \u001b[0;34m\u001b[0m\u001b[0m\n\u001b[1;32m      3\u001b[0m     \u001b[0mpool\u001b[0m \u001b[0;34m=\u001b[0m \u001b[0mmp\u001b[0m\u001b[0;34m.\u001b[0m\u001b[0mPool\u001b[0m\u001b[0;34m(\u001b[0m\u001b[0mmp\u001b[0m\u001b[0;34m.\u001b[0m\u001b[0mcpu_count\u001b[0m\u001b[0;34m(\u001b[0m\u001b[0;34m)\u001b[0m\u001b[0;34m)\u001b[0m\u001b[0;34m\u001b[0m\u001b[0m\n\u001b[0;32m----> 4\u001b[0;31m     \u001b[0mresults\u001b[0m \u001b[0;34m=\u001b[0m \u001b[0mpool\u001b[0m\u001b[0;34m.\u001b[0m\u001b[0mmap_async\u001b[0m\u001b[0;34m(\u001b[0m\u001b[0mpull_items_from_auction\u001b[0m\u001b[0;34m,\u001b[0m \u001b[0mrange\u001b[0m\u001b[0;34m(\u001b[0m\u001b[0;36m0\u001b[0m\u001b[0;34m,\u001b[0m\u001b[0mnumAuctions\u001b[0m\u001b[0;34m)\u001b[0m\u001b[0;34m)\u001b[0m\u001b[0;34m.\u001b[0m\u001b[0mget\u001b[0m\u001b[0;34m(\u001b[0m\u001b[0;36m9999\u001b[0m\u001b[0;34m)\u001b[0m\u001b[0;34m\u001b[0m\u001b[0m\n\u001b[0m\u001b[1;32m      5\u001b[0m     \u001b[0mmasterdf_AuctionItems\u001b[0m \u001b[0;34m=\u001b[0m \u001b[0mpd\u001b[0m\u001b[0;34m.\u001b[0m\u001b[0mconcat\u001b[0m\u001b[0;34m(\u001b[0m\u001b[0mresults\u001b[0m\u001b[0;34m)\u001b[0m\u001b[0;34m\u001b[0m\u001b[0m\n",
      "\u001b[0;32m//anaconda/lib/python2.7/multiprocessing/pool.pyc\u001b[0m in \u001b[0;36mget\u001b[0;34m(self, timeout)\u001b[0m\n\u001b[1;32m    565\u001b[0m             \u001b[0;32mreturn\u001b[0m \u001b[0mself\u001b[0m\u001b[0;34m.\u001b[0m\u001b[0m_value\u001b[0m\u001b[0;34m\u001b[0m\u001b[0m\n\u001b[1;32m    566\u001b[0m         \u001b[0;32melse\u001b[0m\u001b[0;34m:\u001b[0m\u001b[0;34m\u001b[0m\u001b[0m\n\u001b[0;32m--> 567\u001b[0;31m             \u001b[0;32mraise\u001b[0m \u001b[0mself\u001b[0m\u001b[0;34m.\u001b[0m\u001b[0m_value\u001b[0m\u001b[0;34m\u001b[0m\u001b[0m\n\u001b[0m\u001b[1;32m    568\u001b[0m \u001b[0;34m\u001b[0m\u001b[0m\n\u001b[1;32m    569\u001b[0m     \u001b[0;32mdef\u001b[0m \u001b[0m_set\u001b[0m\u001b[0;34m(\u001b[0m\u001b[0mself\u001b[0m\u001b[0;34m,\u001b[0m \u001b[0mi\u001b[0m\u001b[0;34m,\u001b[0m \u001b[0mobj\u001b[0m\u001b[0;34m)\u001b[0m\u001b[0;34m:\u001b[0m\u001b[0;34m\u001b[0m\u001b[0m\n",
      "\u001b[0;31mMaybeEncodingError\u001b[0m: Error sending result: 'HTTPError()'. Reason: 'TypeError(\"can't pickle cStringIO.StringO objects\",)'"
     ]
    },
    {
     "name": "stdout",
     "output_type": "stream",
     "text": [
      "Pulling auction 81 of 126\n",
      "Pulling auction 89 of 126\n",
      "Pulling auction 97 of 126\n",
      "Pulling auction 105 of 126\n",
      "Pulling auction 113 of 126\n",
      "Pulling auction 121 of 126\n"
     ]
    }
   ],
   "source": [
    "if __name__ == '__main__':    \n",
    "    \n",
    "    pool = mp.Pool(mp.cpu_count())\n",
    "    results = pool.map_async(pull_items_from_auction, range(0,numAuctions)).get(9999)\n",
    "    masterdf_AuctionItems = pd.concat(results)"
   ]
  },
  {
   "cell_type": "markdown",
   "metadata": {},
   "source": [
    "# We should now have a dataframe with all of the items ever auctioned by Sotheby's from the year 2000 to present.\n",
    "\n",
    "### Let's now format this properly and add a couple helpful columns"
   ]
  },
  {
   "cell_type": "code",
   "execution_count": 11,
   "metadata": {
    "collapsed": true
   },
   "outputs": [],
   "source": [
    "def format_aux_cols(df):\n",
    "    df['auctionYear'] = df['auctionDate'].apply(lambda x: int(x[-4:]))\n",
    "\n",
    "    for column in ['highEst', 'lowEst', 'salePrice']:\n",
    "        df[column] = df[column].apply(lambda x: int(x))\n",
    "\n",
    "    df.index = range(0,len(df))\n",
    "    df['lot_desc'] = \"\""
   ]
  },
  {
   "cell_type": "markdown",
   "metadata": {},
   "source": [
    "# We're missing a lot of information on the items themselves. Let's extract their descriptions to obtain further information."
   ]
  },
  {
   "cell_type": "code",
   "execution_count": null,
   "metadata": {
    "collapsed": true
   },
   "outputs": [],
   "source": [
    "def extract_lot_description(lot, auctionId, auctionYear):\n",
    "\n",
    "    testURL = 'http://www.sothebys.com/en/auctions/ecatalogue/' + str(auctionYear) + '/' + auctionId + '/' + 'lot.' + str(lot) + '.html'\n",
    "    \n",
    "    r = urllib2.urlopen(testURL)\n",
    "    soup = BeautifulSoup(r, \"lxml\")\n",
    "\n",
    "    soup_s = str(soup)\n",
    "\n",
    "    unwanted_tags = ['<br>','<br/>',\n",
    "                     '<em>','</em>',\n",
    "                     '<span>','</span>',\n",
    "                     '<p>','</p>',\n",
    "                     '<h1>','</h1>',\n",
    "                     '<h2>','</h2>',\n",
    "                     '<h3>','</h3>',\n",
    "                     '<h4>','</h4>',\n",
    "                     '<h5>','</h5>',\n",
    "                     '<strong>','</strong>']\n",
    "    \n",
    "    for item in unwanted_tags:\n",
    "        soup_s = soup_s.replace(item,'\\n')\n",
    "\n",
    "    soup_s = ''.join(i for i in soup_s if ord(i)<128)\n",
    "\n",
    "    for line in soup_s:\n",
    "        line = line.strip()\n",
    "        line = line.encode(\"utf-8\", 'i')\n",
    "    \n",
    "    anchor1 = '<div class=\"lotdetail-description-text\">'\n",
    "    anchor2 = '</div>'\n",
    "    anchor3 = 'lotdetail-section-sub-header\">'\n",
    "    anchor4 = '</div>'\n",
    "\n",
    "    if soup_s.find(anchor1) != -1:\n",
    "        soup_s1 = soup_s[soup_s.find(anchor1)+len(anchor1):]\n",
    "        soup_s2 = soup_s1[:soup_s1.find(anchor2)]\n",
    "    else:\n",
    "        soup_s2 = ''\n",
    "        \n",
    "    if soup_s.find(anchor3) != -1:\n",
    "        soup_s3 = soup_s[soup_s.find(anchor3)+len(anchor3):]\n",
    "        soup_s4 = soup_s3[:soup_s3.find(anchor4)]\n",
    "    else:\n",
    "        soup_s4 = ''\n",
    "    \n",
    "    soup_s5 = soup_s2 + soup_s4\n",
    "    \n",
    "    soup_s5 = soup_s5.replace(\"<h3 class=\\\"lotdetail-section-sub-header\\\">\",'')\n",
    "\n",
    "    description = ' '.join(soup_s5.split())\n",
    "    \n",
    "    return description"
   ]
  },
  {
   "cell_type": "code",
   "execution_count": null,
   "metadata": {
    "collapsed": true
   },
   "outputs": [],
   "source": [
    "def pull_all_descriptions(startRow, endRow, dataFrame):\n",
    "    if input('are you sure you want to start the batch? all existing descriptions will be lost') == \"yes\":\n",
    "        l = []\n",
    "        time1 = time.time()\n",
    "        \n",
    "        for row in range(startRow,endRow):\n",
    "            print \"Pulling desc for lot #\" + str(row)\n",
    "            l.append(extract_lot_description(dataFrame['id'][row], dataFrame['auctionId'][row], dataFrame['auctionYear'][row]))\n",
    "\n",
    "        dataFrame['lot_desc'][startRow:endRow] = l\n",
    "        time2 = time.time()\n",
    "        print(\"time to complete: \" + str((time2-time1)/60/60) + \" hours\")\n",
    "        print(\"time per problem: \" + str((time2-time1)/(endRow-startRow)))"
   ]
  },
  {
   "cell_type": "code",
   "execution_count": null,
   "metadata": {
    "collapsed": true
   },
   "outputs": [],
   "source": [
    "import sys\n",
    "\n",
    "# df = masterdf_AuctionItems\n",
    "\n",
    "def distribute_lot_desc_extr(df, startrow, endrow):\n",
    "\n",
    "    def runSimulation(row):\n",
    "\n",
    "        print \"Pulling desc for lot #\" + str(row)\n",
    "        description = extract_lot_description(df['id'][row], df['auctionId'][row],df['auctionYear'][row])\n",
    "        return description\n",
    "\n",
    "    if __name__ == '__main__':\n",
    "\n",
    "        numRows = startrow-endrow\n",
    "        pool = mp.Pool(mp.cpu_count())\n",
    "        time1 = time.time()\n",
    "        results = pool.map_async(runSimulation, range(0,numRows), chunksize=10).get(99999)\n",
    "\n",
    "        time2 = time.time()\n",
    "        print(\"time to complete: \" + str((time2-time1)/60/60) + \" hours\")\n",
    "        print(\"time per problem: \" + str((time2-time1)/numRows))\n",
    "        df['lot_desc'][range(0,numRows)] = results\n"
   ]
  }
 ],
 "metadata": {
  "anaconda-cloud": {},
  "kernelspec": {
   "display_name": "Python [conda root]",
   "language": "python",
   "name": "conda-root-py"
  },
  "language_info": {
   "codemirror_mode": {
    "name": "ipython",
    "version": 2
   },
   "file_extension": ".py",
   "mimetype": "text/x-python",
   "name": "python",
   "nbconvert_exporter": "python",
   "pygments_lexer": "ipython2",
   "version": "2.7.12"
  }
 },
 "nbformat": 4,
 "nbformat_minor": 1
}
